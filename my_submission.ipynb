{
 "cells": [
  {
   "cell_type": "markdown",
   "id": "2a7ed738-7b6b-4d3e-9830-d07a8e6db751",
   "metadata": {},
   "source": [
    "# My Jupyter Notebook on IBM Watson Studio"
   ]
  },
  {
   "cell_type": "markdown",
   "id": "9a669202-9d05-4691-81eb-8d5c761f308c",
   "metadata": {},
   "source": [
    "**Ichrak AMM** \n",
    "\n",
    "Data scientist and business intelligence analyst"
   ]
  },
  {
   "cell_type": "markdown",
   "id": "3f9990be-6fd5-483c-92c5-fb6859a8ff2b",
   "metadata": {},
   "source": [
    "*I am so interrested in data science because I am passionate about mathematics and computer science and finally found that statistiques are useful in real life*"
   ]
  },
  {
   "cell_type": "markdown",
   "id": "8135199d-bae7-48c3-af36-6da68afe325d",
   "metadata": {},
   "source": [
    "### cell 5 is a cell code where u do any simple code such as 1+1"
   ]
  },
  {
   "cell_type": "code",
   "execution_count": 3,
   "id": "0db3bb17-6cf8-415c-8d6a-87ff4584bbb8",
   "metadata": {},
   "outputs": [
    {
     "data": {
      "text/plain": [
       "5"
      ]
     },
     "execution_count": 3,
     "metadata": {},
     "output_type": "execute_result"
    }
   ],
   "source": [
    "25//5"
   ]
  },
  {
   "cell_type": "markdown",
   "id": "8a9be8ea-fae6-4f9f-86b6-024bf61389a2",
   "metadata": {},
   "source": [
    "this cell includes : \n",
    "\n",
    "* bullet list.\n",
    "* link.\n",
    "* code and syntax highlighting. \n",
    "\n",
    "[introduction to share the jupyter notebook](https://www.coursera.org/learn/open-source-tools-for-data-science/ungradedWidget/c1F5I/instructions-create-and-share-your-jupyter-notebook)"
   ]
  },
  {
   "cell_type": "code",
   "execution_count": null,
   "id": "627fe2e5-64dc-420a-8869-f244fc7325a7",
   "metadata": {},
   "outputs": [],
   "source": []
  },
  {
   "cell_type": "code",
   "execution_count": null,
   "id": "7d970e9f-5ec3-497e-9f0d-8f9c749f415d",
   "metadata": {},
   "outputs": [],
   "source": []
  },
  {
   "cell_type": "code",
   "execution_count": null,
   "id": "690a9542-8424-4225-92d3-a2f2da588bf0",
   "metadata": {},
   "outputs": [],
   "source": []
  }
 ],
 "metadata": {
  "kernelspec": {
   "display_name": "Python",
   "language": "python",
   "name": "conda-env-python-py"
  },
  "language_info": {
   "codemirror_mode": {
    "name": "ipython",
    "version": 3
   },
   "file_extension": ".py",
   "mimetype": "text/x-python",
   "name": "python",
   "nbconvert_exporter": "python",
   "pygments_lexer": "ipython3",
   "version": "3.7.12"
  }
 },
 "nbformat": 4,
 "nbformat_minor": 5
}
